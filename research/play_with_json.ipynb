{
 "cells": [
  {
   "cell_type": "code",
   "execution_count": 1,
   "metadata": {},
   "outputs": [
    {
     "data": {
      "text/plain": [
       "'e:\\\\Deep Learning\\\\pytorch\\\\PDF_Q&A\\\\research'"
      ]
     },
     "execution_count": 1,
     "metadata": {},
     "output_type": "execute_result"
    }
   ],
   "source": [
    "%pwd"
   ]
  },
  {
   "cell_type": "code",
   "execution_count": 2,
   "metadata": {},
   "outputs": [
    {
     "data": {
      "text/plain": [
       "'e:\\\\Deep Learning\\\\pytorch\\\\PDF_Q&A'"
      ]
     },
     "execution_count": 2,
     "metadata": {},
     "output_type": "execute_result"
    }
   ],
   "source": [
    "import os\n",
    "os.chdir(\"../\")\n",
    "%pwd"
   ]
  },
  {
   "cell_type": "code",
   "execution_count": 3,
   "metadata": {},
   "outputs": [],
   "source": [
    "import json\n",
    "with open('datasets/dev-v1.1.json', 'r') as file:\n",
    "    data = json.load(file)"
   ]
  },
  {
   "cell_type": "code",
   "execution_count": 7,
   "metadata": {},
   "outputs": [],
   "source": [
    "num_paragraphs = 0\n",
    "num_qas = 0\n",
    "num_title = 0\n",
    "\n",
    "for title in data['data']:\n",
    "    num_title += 1\n",
    "    for paragraph in title['paragraphs']:\n",
    "        num_paragraphs += 1\n",
    "        num_qas += len(paragraph['qas'])"
   ]
  },
  {
   "cell_type": "code",
   "execution_count": 8,
   "metadata": {},
   "outputs": [
    {
     "name": "stdout",
     "output_type": "stream",
     "text": [
      "There are 48 titles in the JSON file.\n",
      "There are 2067 paragraphs in total.\n",
      "There are 10570 question-answer pairs in total.\n"
     ]
    }
   ],
   "source": [
    "print(f'There are {num_title} titles in the JSON file.')\n",
    "print(f'There are {num_paragraphs} paragraphs in total.')\n",
    "print(f'There are {num_qas} question-answer pairs in total.')"
   ]
  }
 ],
 "metadata": {
  "kernelspec": {
   "display_name": "pdf_qa",
   "language": "python",
   "name": "python3"
  },
  "language_info": {
   "codemirror_mode": {
    "name": "ipython",
    "version": 3
   },
   "file_extension": ".py",
   "mimetype": "text/x-python",
   "name": "python",
   "nbconvert_exporter": "python",
   "pygments_lexer": "ipython3",
   "version": "3.9.19"
  }
 },
 "nbformat": 4,
 "nbformat_minor": 2
}
